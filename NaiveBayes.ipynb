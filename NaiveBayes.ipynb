{
 "cells": [
  {
   "cell_type": "code",
   "execution_count": 88,
   "metadata": {},
   "outputs": [],
   "source": [
    "import numpy as np\n",
    "import matplotlib.pyplot as plt\n",
    "import pandas as pd\n",
    "import glob\n",
    "import os\n",
    "from sklearn.feature_extraction.text import CountVectorizer"
   ]
  },
  {
   "cell_type": "code",
   "execution_count": 110,
   "metadata": {},
   "outputs": [],
   "source": [
    "### READ ALL SENTENCES OF POSITIVE AND NEGATIVE REVIEWS OF TRAIN AND TEST SETS ###\n",
    "train_pos_path = '/Users/justinlacoste/downloads/aclImdb/train/pos'\n",
    "train_neg_path = '/Users/justinlacoste/downloads/aclImdb/train/neg'\n",
    "test_pos_path = '/Users/justinlacoste/downloads/aclImdb/test/pos'\n",
    "test_neg_path = '/Users/justinlacoste/downloads/aclImdb/test/neg'\n",
    "\n",
    "x_train_pos_raw_reviews = []\n",
    "x_train_neg_raw_reviews = []\n",
    "x_test_pos_raw_reviews = []\n",
    "x_test_neg_raw_reviews = []\n",
    "\n",
    "\n",
    "def read_all_files_in_directory(path_from_aclImdb, array_to_append_to):\n",
    "    directory = os.fsencode(path_from_aclImdb)\n",
    "\n",
    "    for file in os.listdir(directory):\n",
    "        filename = os.fsdecode(file)\n",
    "        f = open(f\"{path_from_aclImdb}/{filename}\", \"r\")\n",
    "        array_to_append_to.append(f.read())\n",
    "\n",
    "\n",
    "read_all_files_in_directory(train_pos_path, x_train_pos_raw_reviews)\n",
    "read_all_files_in_directory(train_neg_path, x_train_neg_raw_reviews)\n",
    "read_all_files_in_directory(test_pos_path, x_test_pos_raw_reviews)\n",
    "read_all_files_in_directory(test_neg_path, x_test_neg_raw_reviews)"
   ]
  },
  {
   "cell_type": "code",
   "execution_count": 112,
   "metadata": {},
   "outputs": [
    {
     "name": "stdout",
     "output_type": "stream",
     "text": [
      "Total number of words in reviews: 2958832\n",
      "Total number of words in reviews: 2885848\n",
      "Total number of words in reviews: 2862401\n",
      "Total number of words in reviews: 2850766\n"
     ]
    }
   ],
   "source": [
    "### EXTRACT WORD FREQUENCIES PER CLASS MANUALLY ###\n",
    "\n",
    "def array_of_sentences_to_word_frequency_dict(array_of_sentences):\n",
    "    array_of_words = [x.split() for x in array_of_sentences]\n",
    "    array_of_words_count = sum(len(x) for x in array_of_words)\n",
    "    print(f\"Total number of words in reviews: {array_of_words_count}\")\n",
    "\n",
    "    array_of_words_dict = {}\n",
    "    for x in array_of_words:\n",
    "        for word in x:\n",
    "            if word in array_of_words_dict:\n",
    "                array_of_words_dict[word] += 1\n",
    "            else:\n",
    "                array_of_words_dict[word] = 1\n",
    "\n",
    "    return array_of_words_dict\n",
    "\n",
    "\n",
    "\n",
    "x_train_pos_raw_reviews_words_dict = array_of_sentences_to_word_frequency_dict(x_train_pos_raw_reviews)\n",
    "x_train_neg_raw_reviews_words_dict = array_of_sentences_to_word_frequency_dict(x_train_neg_raw_reviews)\n",
    "x_test_pos_raw_reviews_words_dict = array_of_sentences_to_word_frequency_dict(x_test_pos_raw_reviews)\n",
    "x_test_neg_raw_reviews_words_dict = array_of_sentences_to_word_frequency_dict(x_test_neg_raw_reviews)"
   ]
  },
  {
   "cell_type": "code",
   "execution_count": 169,
   "metadata": {},
   "outputs": [
    {
     "name": "stdout",
     "output_type": "stream",
     "text": [
      "Total number of words in reviews: 2958832\n",
      "Total number of words in reviews: 2885848\n",
      "Total number of words in reviews: 2862401\n",
      "Total number of words in reviews: 2850766\n"
     ]
    }
   ],
   "source": [
    "### EXTRACT WORD FREQUENCIES PER CLASS SEMI-MANUALLY ###\n",
    "import string\n",
    "\n",
    "def array_of_sentences_to_word_frequency_dict(array_of_sentences):\n",
    "    array_of_words = [x.split() for x in array_of_sentences]\n",
    "    array_of_words = [[y.strip(string.punctuation) for y in x] for x in array_of_words]\n",
    "    array_of_words_count = sum(len(x) for x in array_of_words)\n",
    "    print(f\"Total number of words in reviews: {array_of_words_count}\")\n",
    "\n",
    "    array_of_words_dict = {}\n",
    "    for x in array_of_words:\n",
    "        for word in x:\n",
    "            if word in array_of_words_dict:\n",
    "                array_of_words_dict[word] += 1\n",
    "            else:\n",
    "                array_of_words_dict[word] = 1\n",
    "\n",
    "    return array_of_words_dict\n",
    "\n",
    "\n",
    "\n",
    "x_train_pos_raw_reviews_words_dict = array_of_sentences_to_word_frequency_dict(x_train_pos_raw_reviews)\n",
    "x_train_neg_raw_reviews_words_dict = array_of_sentences_to_word_frequency_dict(x_train_neg_raw_reviews)\n",
    "x_test_pos_raw_reviews_words_dict = array_of_sentences_to_word_frequency_dict(x_test_pos_raw_reviews)\n",
    "x_test_neg_raw_reviews_words_dict = array_of_sentences_to_word_frequency_dict(x_test_neg_raw_reviews)"
   ]
  },
  {
   "cell_type": "code",
   "execution_count": 92,
   "metadata": {},
   "outputs": [],
   "source": [
    "### EXTRACT WORD FREQUENCIES PER CLASS WITH COUNTVECTORIZER() ###\n",
    "vectorizer_pos = CountVectorizer()\n",
    "vectorizer_pos.fit_transform(x_train_pos_raw_reviews)\n",
    "vocab_pos_dictionnary = vectorizer_pos.vocabulary_\n",
    "\n",
    "vectorizer_neg = CountVectorizer()\n",
    "vectorizer_neg.fit_transform(x_train_neg_raw_reviews)\n",
    "vocab_neg_dictionnary = vectorizer_neg.vocabulary_"
   ]
  },
  {
   "cell_type": "code",
   "execution_count": 162,
   "metadata": {},
   "outputs": [
    {
     "name": "stdout",
     "output_type": "stream",
     "text": [
      "1553390191\n",
      "2862401\n"
     ]
    }
   ],
   "source": [
    "#THERE IS AN ERROR, CAUSE THE WORD COUNT IS DEFINITELY TOO HIGH\n",
    "print(sum(vocab_pos_dictionnary.values()))\n",
    "print(sum(x_test_pos_raw_reviews_words_dict.values()))"
   ]
  },
  {
   "cell_type": "code",
   "execution_count": 166,
   "metadata": {},
   "outputs": [
    {
     "name": "stdout",
     "output_type": "stream",
     "text": [
      "46366\n",
      "93\n"
     ]
    }
   ],
   "source": [
    "print(vocab_pos_dictionnary[\"spectacular\"])\n",
    "print(x_test_pos_raw_reviews_words_dict[\"spectacular\"])"
   ]
  },
  {
   "cell_type": "code",
   "execution_count": 172,
   "metadata": {},
   "outputs": [],
   "source": [
    "### MULTINOMAIL NAIVE BAYES MODEL ###\n",
    "class NaiveBayes():\n",
    "    def __init__(self):\n",
    "        #total_word_count = sum(vocab_dictionnary.values())\n",
    "        self.estimates_pos = {} #frequency of each word (# of times it appears in positive reviews divided by the total number of words in the positive reviews)\n",
    "        self.estimates_neg = {}\n",
    "        #SET PRIORS\n",
    "        self.prior_pos = 0.5\n",
    "        self.prior_neg = 0.5\n",
    "        self.alpha_laplace_smooth = 1\n",
    "        self.beta_laplace_smooth = 1\n",
    "\n",
    "        #TO DRASTICALLY SPEED UP FUTURE COMPUTATIONS\n",
    "        self.sum_of_pos_probabilities = 0\n",
    "        self.sum_of_neg_probabilities = 0\n",
    "\n",
    "        #WE WANT TO CREATE 2 ARRAY OF THE FREQUENCY OF EACH WORD IN THE VOCABULARY FOR EACH CLASS\n",
    "        # for key, value in vocab_dictionnary.items():\n",
    "        #     self.estimates_pos[key] = value / size_pos\n",
    "        #     self.estimates_neg[key] = value / size_neg\n",
    "        \n",
    "        # frequency_of_positives=[0.6, 0.2, 0.4, 0.3, ...] (ex: frequency of the word \"the\" is number of times it appears divided by the total number of words in the positive reviews)\n",
    "        # frequency_of_negatives=[0.2, 0.3, 0.1, 0.1, ...]\n",
    "\n",
    "\n",
    "\n",
    "    def fit(self, x_pos_dict, x_neg_dict):\n",
    "        # MAXIMUM LIKELIKELIHOOD ESTIMATES\n",
    "        self.estimates_pos = {}\n",
    "        self.estimates_neg = {}\n",
    "        pos_word_count = sum(x_pos_dict.values())\n",
    "        neg_word_count = sum(x_neg_dict.values())\n",
    "        for key, value in x_pos_dict.items():\n",
    "            self.estimates_pos[key] = value / pos_word_count\n",
    "        for key, value in x_neg_dict.items():\n",
    "            self.estimates_neg[key] = value / neg_word_count\n",
    "\n",
    "        for key, value in self.estimates_pos.items():\n",
    "            self.sum_of_pos_probabilities += np.log(1 - value)\n",
    "        for key, value in self.estimates_neg.items():\n",
    "            self.sum_of_neg_probabilities += np.log(1 - value)\n",
    "\n",
    "\n",
    "    def predict(self, x):\n",
    "\n",
    "        probability_of_positive = np.log(self.prior_pos)\n",
    "        probability_of_negative = np.log(self.prior_neg)\n",
    "\n",
    "        for key, value in self.estimates_pos.items():\n",
    "            \n",
    "            #if the word is in the review, we add the log probability of the word to the probability of the review being positive\n",
    "            if key in x:\n",
    "                probability_of_positive += np.log(value)\n",
    "            else:\n",
    "                probability_of_positive += np.log(1 - value)\n",
    "            \n",
    "            #add code to account for case that we have not seen the word in the training set\n",
    "\n",
    "        for key, value in self.estimates_neg.items():\n",
    "\n",
    "            #if the word is in the review, we add the log probability of the word to the probability of the review being negative\n",
    "            if key in x:\n",
    "                probability_of_negative += np.log(value)\n",
    "            else:\n",
    "                probability_of_negative += np.log(1 - value)\n",
    "\n",
    "            #add code to account for case that we have not seen the word in the training set\n",
    "        \n",
    "        #print(f\"{probability_of_positive} --- {probability_of_negative}\")\n",
    "        if probability_of_positive > probability_of_negative:\n",
    "            return 1\n",
    "        else:\n",
    "            return 0\n",
    "        \n",
    "    def predict_2(self, x):\n",
    "        \n",
    "        for word in x:\n",
    "            if word in self.estimates_pos:\n",
    "                self.sum_of_pos_probabilities -= np.log(1 - self.estimates_pos[word])\n",
    "                self.sum_of_pos_probabilities += np.log(self.estimates_pos[word])\n",
    "\n",
    "            if word in self.estimates_neg:\n",
    "                self.sum_of_neg_probabilities -= np.log(1 - self.estimates_neg[word])\n",
    "                self.sum_of_neg_probabilities += np.log(self.estimates_neg[word])\n",
    "\n",
    "        if self.sum_of_pos_probabilities > self.sum_of_neg_probabilities:\n",
    "            return 1\n",
    "        else:\n",
    "            return 0\n",
    "        \n",
    "    def evaluate_acc(self, array_of_sentences, array_of_labels):\n",
    "        \n",
    "        num_correct = 0\n",
    "\n",
    "        for index, sentence in enumerate(array_of_sentences):\n",
    "            word_array = sentence.split()\n",
    "            prediction = self.predict_2(word_array)\n",
    "            if prediction == array_of_labels[index]:\n",
    "                num_correct += 1\n",
    "            \n",
    "        \n",
    "        return num_correct / len(array_of_sentences)\n"
   ]
  },
  {
   "cell_type": "code",
   "execution_count": 173,
   "metadata": {},
   "outputs": [],
   "source": [
    "model = NaiveBayes()\n",
    "model.fit(x_train_pos_raw_reviews_words_dict, x_train_neg_raw_reviews_words_dict)"
   ]
  },
  {
   "cell_type": "code",
   "execution_count": 174,
   "metadata": {},
   "outputs": [
    {
     "name": "stdout",
     "output_type": "stream",
     "text": [
      "0\n"
     ]
    }
   ],
   "source": [
    "print(model.predict_2(['this', 'movie', 'is', 'awesome.']))"
   ]
  },
  {
   "cell_type": "code",
   "execution_count": 175,
   "metadata": {},
   "outputs": [
    {
     "name": "stdout",
     "output_type": "stream",
     "text": [
      "0.65644\n"
     ]
    }
   ],
   "source": [
    "#EVALUATE MODEL\n",
    "positive_labels = [1] * len(x_test_pos_raw_reviews)\n",
    "negative_labels = [0] * len(x_test_neg_raw_reviews)\n",
    "x_test_labels = positive_labels + negative_labels\n",
    "x_test_sentences = x_test_pos_raw_reviews + x_test_neg_raw_reviews\n",
    "print(model.evaluate_acc(x_test_sentences, x_test_labels))"
   ]
  },
  {
   "cell_type": "markdown",
   "metadata": {},
   "source": []
  }
 ],
 "metadata": {
  "kernelspec": {
   "display_name": "base",
   "language": "python",
   "name": "python3"
  },
  "language_info": {
   "codemirror_mode": {
    "name": "ipython",
    "version": 3
   },
   "file_extension": ".py",
   "mimetype": "text/x-python",
   "name": "python",
   "nbconvert_exporter": "python",
   "pygments_lexer": "ipython3",
   "version": "3.9.6"
  },
  "orig_nbformat": 4
 },
 "nbformat": 4,
 "nbformat_minor": 2
}
