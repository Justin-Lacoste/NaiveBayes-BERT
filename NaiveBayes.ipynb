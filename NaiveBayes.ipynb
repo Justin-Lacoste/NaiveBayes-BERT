{
 "cells": [
  {
   "cell_type": "code",
   "execution_count": 88,
   "metadata": {},
   "outputs": [],
   "source": [
    "import numpy as np\n",
    "import matplotlib.pyplot as plt\n",
    "import pandas as pd\n",
    "import glob\n",
    "import os\n",
    "from sklearn.feature_extraction.text import CountVectorizer"
   ]
  },
  {
   "cell_type": "code",
   "execution_count": 110,
   "metadata": {},
   "outputs": [],
   "source": [
    "### READ ALL SENTENCES OF POSITIVE AND NEGATIVE REVIEWS OF TRAIN AND TEST SETS ###\n",
    "train_pos_path = '/Users/justinlacoste/downloads/aclImdb/train/pos'\n",
    "train_neg_path = '/Users/justinlacoste/downloads/aclImdb/train/neg'\n",
    "test_pos_path = '/Users/justinlacoste/downloads/aclImdb/test/pos'\n",
    "test_neg_path = '/Users/justinlacoste/downloads/aclImdb/test/neg'\n",
    "\n",
    "x_train_pos_raw_reviews = []\n",
    "x_train_neg_raw_reviews = []\n",
    "x_test_pos_raw_reviews = []\n",
    "x_test_neg_raw_reviews = []\n",
    "\n",
    "\n",
    "def read_all_files_in_directory(path_from_aclImdb, array_to_append_to):\n",
    "    directory = os.fsencode(path_from_aclImdb)\n",
    "\n",
    "    for file in os.listdir(directory):\n",
    "        filename = os.fsdecode(file)\n",
    "        f = open(f\"{path_from_aclImdb}/{filename}\", \"r\")\n",
    "        array_to_append_to.append(f.read())\n",
    "\n",
    "\n",
    "read_all_files_in_directory(train_pos_path, x_train_pos_raw_reviews)\n",
    "read_all_files_in_directory(train_neg_path, x_train_neg_raw_reviews)\n",
    "read_all_files_in_directory(test_pos_path, x_test_pos_raw_reviews)\n",
    "read_all_files_in_directory(test_neg_path, x_test_neg_raw_reviews)"
   ]
  },
  {
   "cell_type": "code",
   "execution_count": 112,
   "metadata": {},
   "outputs": [
    {
     "name": "stdout",
     "output_type": "stream",
     "text": [
      "Total number of words in reviews: 2958832\n",
      "Total number of words in reviews: 2885848\n",
      "Total number of words in reviews: 2862401\n",
      "Total number of words in reviews: 2850766\n"
     ]
    }
   ],
   "source": [
    "### EXTRACT WORD FREQUENCIES PER CLASS MANUALLY ###\n",
    "\n",
    "def array_of_sentences_to_word_frequency_dict(array_of_sentences):\n",
    "    array_of_words = [x.split() for x in array_of_sentences]\n",
    "    array_of_words_count = sum(len(x) for x in array_of_words)\n",
    "    print(f\"Total number of words in reviews: {array_of_words_count}\")\n",
    "\n",
    "    array_of_words_dict = {}\n",
    "    for x in array_of_words:\n",
    "        for word in x:\n",
    "            if word in array_of_words_dict:\n",
    "                array_of_words_dict[word] += 1\n",
    "            else:\n",
    "                array_of_words_dict[word] = 1\n",
    "\n",
    "    return array_of_words_dict\n",
    "\n",
    "\n",
    "\n",
    "x_train_pos_raw_reviews_words_dict = array_of_sentences_to_word_frequency_dict(x_train_pos_raw_reviews)\n",
    "x_train_neg_raw_reviews_words_dict = array_of_sentences_to_word_frequency_dict(x_train_neg_raw_reviews)\n",
    "x_test_pos_raw_reviews_words_dict = array_of_sentences_to_word_frequency_dict(x_test_pos_raw_reviews)\n",
    "x_test_neg_raw_reviews_words_dict = array_of_sentences_to_word_frequency_dict(x_test_neg_raw_reviews)"
   ]
  },
  {
   "cell_type": "code",
   "execution_count": 92,
   "metadata": {},
   "outputs": [],
   "source": [
    "### EXTRACT WORD FREQUENCIES PER CLASS WITH COUNTVECTORIZER() ###\n",
    "vectorizer_pos = CountVectorizer()\n",
    "vectorizer_pos.fit_transform(x_train_pos_raw_reviews)\n",
    "vocab_pos_dictionnary = vectorizer_pos.vocabulary_\n",
    "\n",
    "vectorizer_neg = CountVectorizer()\n",
    "vectorizer_neg.fit_transform(x_train_neg_raw_reviews)\n",
    "vocab_neg_dictionnary = vectorizer_neg.vocabulary_"
   ]
  },
  {
   "cell_type": "code",
   "execution_count": 71,
   "metadata": {},
   "outputs": [
    {
     "name": "stdout",
     "output_type": "stream",
     "text": [
      "1553390191\n",
      "1471558375\n"
     ]
    }
   ],
   "source": [
    "#THERE IS AN ERROR, CAUSE THE WORD COUNT IS DEFINITELY TOO HIGH\n",
    "print(sum(vocab_pos_dictionnary.values()))\n",
    "print(sum(vocab_neg_dictionnary.values()))"
   ]
  },
  {
   "cell_type": "code",
   "execution_count": 126,
   "metadata": {},
   "outputs": [],
   "source": [
    "### MULTINOMAIL NAIVE BAYES MODEL ###\n",
    "class NaiveBayes():\n",
    "    def __init__(self):\n",
    "        #total_word_count = sum(vocab_dictionnary.values())\n",
    "        self.estimates_pos = {} #frequency of each word (# of times it appears in positive reviews divided by the total number of words in the positive reviews)\n",
    "        self.estimates_neg = {}\n",
    "        #SET PRIORS\n",
    "        self.prior_pos = 0.5\n",
    "        self.prior_neg = 0.5\n",
    "        self.alpha_laplace_smooth = 1\n",
    "        self.beta_laplace_smooth = 1\n",
    "\n",
    "        #WE WANT TO CREATE 2 ARRAY OF THE FREQUENCY OF EACH WORD IN THE VOCABULARY FOR EACH CLASS\n",
    "        # for key, value in vocab_dictionnary.items():\n",
    "        #     self.estimates_pos[key] = value / size_pos\n",
    "        #     self.estimates_neg[key] = value / size_neg\n",
    "        \n",
    "        # frequency_of_positives=[0.6, 0.2, 0.4, 0.3, ...] (ex: frequency of the word \"the\" is number of times it appears divided by the total number of words in the positive reviews)\n",
    "        # frequency_of_negatives=[0.2, 0.3, 0.1, 0.1, ...]\n",
    "\n",
    "\n",
    "\n",
    "    def fit(self, x_pos_dict, x_neg_dict):\n",
    "        # MAXIMUM LIKELIKELIHOOD ESTIMATES\n",
    "        self.estimates_pos = {}\n",
    "        self.estimates_neg = {}\n",
    "        pos_word_count = sum(x_pos_dict.values())\n",
    "        neg_word_count = sum(x_neg_dict.values())\n",
    "        for key, value in x_pos_dict.items():\n",
    "            self.estimates_pos[key] = value / pos_word_count\n",
    "        for key, value in x_neg_dict.items():\n",
    "            self.estimates_neg[key] = value / neg_word_count\n",
    "\n",
    "\n",
    "    def predict(self, x):\n",
    "\n",
    "        probability_of_positive = np.log(self.prior_pos)\n",
    "        probability_of_negative = np.log(self.prior_neg)\n",
    "\n",
    "        for key, value in self.estimates_pos.items():\n",
    "            \n",
    "            #if the word is in the review, we add the log probability of the word to the probability of the review being positive\n",
    "            if key in x:\n",
    "                probability_of_positive += np.log(value)\n",
    "            else:\n",
    "                probability_of_positive += np.log(1 - value)\n",
    "            \n",
    "            #add code to account for case that we have not seen the word in the training set\n",
    "\n",
    "        for key, value in self.estimates_neg.items():\n",
    "\n",
    "            #if the word is in the review, we add the log probability of the word to the probability of the review being negative\n",
    "            if key in x:\n",
    "                probability_of_negative += np.log(value)\n",
    "            else:\n",
    "                probability_of_negative += np.log(1 - value)\n",
    "\n",
    "            #add code to account for case that we have not seen the word in the training set\n",
    "        \n",
    "        #print(f\"{probability_of_positive} --- {probability_of_negative}\")\n",
    "        if probability_of_positive > probability_of_negative:\n",
    "            return 1\n",
    "        else:\n",
    "            return 0\n",
    "        \n",
    "    def evaluate_acc(self, array_of_sentences, array_of_labels):\n",
    "        \n",
    "        num_correct = 0\n",
    "        total_evaluated = 0\n",
    "\n",
    "        for index, sentence in enumerate(array_of_sentences):\n",
    "            word_array = sentence.split()\n",
    "            prediction = self.predict(word_array)\n",
    "            total_evaluated += 1\n",
    "            if prediction == array_of_labels[index]:\n",
    "                num_correct += 1\n",
    "            total_evaluated % 10 == 0 and print(f\"Evaluated {total_evaluated} sentences\")\n",
    "            \n",
    "        \n",
    "        return num_correct / len(array_of_sentences)\n"
   ]
  },
  {
   "cell_type": "code",
   "execution_count": 127,
   "metadata": {},
   "outputs": [],
   "source": [
    "model = NaiveBayes()\n",
    "model.fit(x_train_pos_raw_reviews_words_dict, x_train_neg_raw_reviews_words_dict)"
   ]
  },
  {
   "cell_type": "code",
   "execution_count": 128,
   "metadata": {},
   "outputs": [
    {
     "name": "stdout",
     "output_type": "stream",
     "text": [
      "1\n"
     ]
    }
   ],
   "source": [
    "print(model.predict(['this', 'movie', 'is', 'awesome.']))"
   ]
  },
  {
   "cell_type": "code",
   "execution_count": 129,
   "metadata": {},
   "outputs": [
    {
     "name": "stdout",
     "output_type": "stream",
     "text": [
      "Evaluated 10 sentences\n",
      "Evaluated 20 sentences\n",
      "Evaluated 30 sentences\n"
     ]
    },
    {
     "ename": "KeyboardInterrupt",
     "evalue": "",
     "output_type": "error",
     "traceback": [
      "\u001b[0;31m---------------------------------------------------------------------------\u001b[0m",
      "\u001b[0;31mKeyboardInterrupt\u001b[0m                         Traceback (most recent call last)",
      "\u001b[0;32m/var/folders/_f/z326y9bd05bbd5fkdwx7m2_00000gn/T/ipykernel_10194/2654100692.py\u001b[0m in \u001b[0;36m<module>\u001b[0;34m\u001b[0m\n\u001b[1;32m      4\u001b[0m \u001b[0mx_test_labels\u001b[0m \u001b[0;34m=\u001b[0m \u001b[0mpositive_labels\u001b[0m \u001b[0;34m+\u001b[0m \u001b[0mnegative_labels\u001b[0m\u001b[0;34m\u001b[0m\u001b[0;34m\u001b[0m\u001b[0m\n\u001b[1;32m      5\u001b[0m \u001b[0mx_test_sentences\u001b[0m \u001b[0;34m=\u001b[0m \u001b[0mx_test_pos_raw_reviews\u001b[0m \u001b[0;34m+\u001b[0m \u001b[0mx_test_neg_raw_reviews\u001b[0m\u001b[0;34m\u001b[0m\u001b[0;34m\u001b[0m\u001b[0m\n\u001b[0;32m----> 6\u001b[0;31m \u001b[0mprint\u001b[0m\u001b[0;34m(\u001b[0m\u001b[0mmodel\u001b[0m\u001b[0;34m.\u001b[0m\u001b[0mevaluate_acc\u001b[0m\u001b[0;34m(\u001b[0m\u001b[0mx_test_sentences\u001b[0m\u001b[0;34m,\u001b[0m \u001b[0mx_test_labels\u001b[0m\u001b[0;34m)\u001b[0m\u001b[0;34m)\u001b[0m\u001b[0;34m\u001b[0m\u001b[0;34m\u001b[0m\u001b[0m\n\u001b[0m",
      "\u001b[0;32m/var/folders/_f/z326y9bd05bbd5fkdwx7m2_00000gn/T/ipykernel_10194/2460043324.py\u001b[0m in \u001b[0;36mevaluate_acc\u001b[0;34m(self, array_of_sentences, array_of_labels)\u001b[0m\n\u001b[1;32m     71\u001b[0m         \u001b[0;32mfor\u001b[0m \u001b[0mindex\u001b[0m\u001b[0;34m,\u001b[0m \u001b[0msentence\u001b[0m \u001b[0;32min\u001b[0m \u001b[0menumerate\u001b[0m\u001b[0;34m(\u001b[0m\u001b[0marray_of_sentences\u001b[0m\u001b[0;34m)\u001b[0m\u001b[0;34m:\u001b[0m\u001b[0;34m\u001b[0m\u001b[0;34m\u001b[0m\u001b[0m\n\u001b[1;32m     72\u001b[0m             \u001b[0mword_array\u001b[0m \u001b[0;34m=\u001b[0m \u001b[0msentence\u001b[0m\u001b[0;34m.\u001b[0m\u001b[0msplit\u001b[0m\u001b[0;34m(\u001b[0m\u001b[0;34m)\u001b[0m\u001b[0;34m\u001b[0m\u001b[0;34m\u001b[0m\u001b[0m\n\u001b[0;32m---> 73\u001b[0;31m             \u001b[0mprediction\u001b[0m \u001b[0;34m=\u001b[0m \u001b[0mself\u001b[0m\u001b[0;34m.\u001b[0m\u001b[0mpredict\u001b[0m\u001b[0;34m(\u001b[0m\u001b[0mword_array\u001b[0m\u001b[0;34m)\u001b[0m\u001b[0;34m\u001b[0m\u001b[0;34m\u001b[0m\u001b[0m\n\u001b[0m\u001b[1;32m     74\u001b[0m             \u001b[0mtotal_evaluated\u001b[0m \u001b[0;34m+=\u001b[0m \u001b[0;36m1\u001b[0m\u001b[0;34m\u001b[0m\u001b[0;34m\u001b[0m\u001b[0m\n\u001b[1;32m     75\u001b[0m             \u001b[0;32mif\u001b[0m \u001b[0mprediction\u001b[0m \u001b[0;34m==\u001b[0m \u001b[0marray_of_labels\u001b[0m\u001b[0;34m[\u001b[0m\u001b[0mindex\u001b[0m\u001b[0;34m]\u001b[0m\u001b[0;34m:\u001b[0m\u001b[0;34m\u001b[0m\u001b[0;34m\u001b[0m\u001b[0m\n",
      "\u001b[0;32m/var/folders/_f/z326y9bd05bbd5fkdwx7m2_00000gn/T/ipykernel_10194/2460043324.py\u001b[0m in \u001b[0;36mpredict\u001b[0;34m(self, x)\u001b[0m\n\u001b[1;32m     44\u001b[0m                 \u001b[0mprobability_of_positive\u001b[0m \u001b[0;34m+=\u001b[0m \u001b[0mnp\u001b[0m\u001b[0;34m.\u001b[0m\u001b[0mlog\u001b[0m\u001b[0;34m(\u001b[0m\u001b[0mvalue\u001b[0m\u001b[0;34m)\u001b[0m\u001b[0;34m\u001b[0m\u001b[0;34m\u001b[0m\u001b[0m\n\u001b[1;32m     45\u001b[0m             \u001b[0;32melse\u001b[0m\u001b[0;34m:\u001b[0m\u001b[0;34m\u001b[0m\u001b[0;34m\u001b[0m\u001b[0m\n\u001b[0;32m---> 46\u001b[0;31m                 \u001b[0mprobability_of_positive\u001b[0m \u001b[0;34m+=\u001b[0m \u001b[0mnp\u001b[0m\u001b[0;34m.\u001b[0m\u001b[0mlog\u001b[0m\u001b[0;34m(\u001b[0m\u001b[0;36m1\u001b[0m \u001b[0;34m-\u001b[0m \u001b[0mvalue\u001b[0m\u001b[0;34m)\u001b[0m\u001b[0;34m\u001b[0m\u001b[0;34m\u001b[0m\u001b[0m\n\u001b[0m\u001b[1;32m     47\u001b[0m \u001b[0;34m\u001b[0m\u001b[0m\n\u001b[1;32m     48\u001b[0m             \u001b[0;31m#add code to account for case that we have not seen the word in the training set\u001b[0m\u001b[0;34m\u001b[0m\u001b[0;34m\u001b[0m\u001b[0;34m\u001b[0m\u001b[0m\n",
      "\u001b[0;31mKeyboardInterrupt\u001b[0m: "
     ]
    }
   ],
   "source": [
    "#EVALUATE MODEL\n",
    "positive_labels = [1] * len(x_test_pos_raw_reviews)\n",
    "negative_labels = [0] * len(x_test_neg_raw_reviews)\n",
    "x_test_labels = positive_labels + negative_labels\n",
    "x_test_sentences = x_test_pos_raw_reviews + x_test_neg_raw_reviews\n",
    "print(model.evaluate_acc(x_test_sentences, x_test_labels))"
   ]
  },
  {
   "cell_type": "markdown",
   "metadata": {},
   "source": []
  },
  {
   "cell_type": "code",
   "execution_count": null,
   "metadata": {},
   "outputs": [],
   "source": [
    "### GET LIST OF ALL WORDS ###\n",
    "import pandas as pd\n",
    "\n",
    "df = pd.read_csv('/Users/justinlacoste/downloads/aclImdb/imdb.vocab')\n",
    "all_words_train = df.to_numpy().flatten()"
   ]
  }
 ],
 "metadata": {
  "kernelspec": {
   "display_name": "base",
   "language": "python",
   "name": "python3"
  },
  "language_info": {
   "codemirror_mode": {
    "name": "ipython",
    "version": 3
   },
   "file_extension": ".py",
   "mimetype": "text/x-python",
   "name": "python",
   "nbconvert_exporter": "python",
   "pygments_lexer": "ipython3",
   "version": "3.9.6"
  },
  "orig_nbformat": 4
 },
 "nbformat": 4,
 "nbformat_minor": 2
}
