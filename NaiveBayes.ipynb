{
 "cells": [
  {
   "cell_type": "code",
   "execution_count": 15,
   "metadata": {},
   "outputs": [],
   "source": [
    "import numpy as np\n",
    "import matplotlib.pyplot as plt\n",
    "import pandas as pd\n",
    "import glob\n",
    "import os\n",
    "from sklearn.feature_extraction.text import CountVectorizer"
   ]
  },
  {
   "cell_type": "code",
   "execution_count": 16,
   "metadata": {},
   "outputs": [],
   "source": [
    "### READ ALL SENTENCES OF POSITIVE AND NEGATIVE REVIEWS OF TRAIN AND TEST SETS ###\n",
    "train_pos_path = '/Users/justinlacoste/downloads/aclImdb/train/pos'\n",
    "train_neg_path = '/Users/justinlacoste/downloads/aclImdb/train/neg'\n",
    "\n",
    "x_train_pos_raw_reviews = []\n",
    "x_train_neg_raw_reviews = []\n",
    "\n",
    "def read_all_files_in_directory(path_from_aclImdb, array_to_append_to):\n",
    "    directory = os.fsencode(path_from_aclImdb)\n",
    "\n",
    "    for file in os.listdir(directory):\n",
    "        filename = os.fsdecode(file)\n",
    "        f = open(f\"{train_pos_path}/{filename}\", \"r\")\n",
    "        array_to_append_to.append(f.read())\n",
    "\n",
    "\n",
    "read_all_files_in_directory(train_pos_path, x_train_pos_raw_reviews)\n",
    "read_all_files_in_directory(train_neg_path, x_train_neg_raw_reviews)"
   ]
  },
  {
   "cell_type": "code",
   "execution_count": 27,
   "metadata": {},
   "outputs": [],
   "source": [
    "### EXTRACT WORD FREQUENCIES PER CLASS ###\n",
    "vectorizer_pos = CountVectorizer()\n",
    "vectorizer_pos.fit(x_train_pos_raw_reviews)\n",
    "vocab_pos_dictionnary = vectorizer_pos.vocabulary_\n",
    "\n",
    "vectorizer_neg = CountVectorizer()\n",
    "vectorizer_neg.fit(x_train_pos_raw_reviews)\n",
    "vocab_neg_dictionnary = vectorizer_neg.vocabulary_"
   ]
  },
  {
   "cell_type": "code",
   "execution_count": 13,
   "metadata": {},
   "outputs": [
    {
     "name": "stdout",
     "output_type": "stream",
     "text": [
      "a\n"
     ]
    }
   ],
   "source": [
    "### MULTINOMAIL NAIVE BAYES MODEL ###\n",
    "class NaiveBayes():\n",
    "    def __init__(self, vocab_dictionnary, size_pos, size_neg):\n",
    "        total_word_count = sum(vocab_dictionnary.values())\n",
    "        self.estimates_pos = {}\n",
    "        self.estimates_neg = {}\n",
    "        #SET PRIORS\n",
    "        self.prior_pos = 0\n",
    "        self.prior_neg = 0\n",
    "\n",
    "    def fit(self, x_pos_dict, x_neg_dict):\n",
    "        # MAXIMUM LIKELIKELIHOOD ESTIMATES\n",
    "        self.estimates_pos = {}\n",
    "        self.estimates_neg = {}\n",
    "        pos_word_count = sum(x_pos_dict.values())\n",
    "        neg_word_count = sum(x_neg_dict.values())\n",
    "        for key, value in x_pos_dict.items():\n",
    "            self.estimates_pos[key] = value / pos_word_count\n",
    "        for key, value in x_neg_dict.items():\n",
    "            self.estimates_pos[key] = value / neg_word_count\n",
    "\n",
    "\n",
    "    def predict(self, x):\n",
    "        pass\n"
   ]
  },
  {
   "cell_type": "code",
   "execution_count": null,
   "metadata": {},
   "outputs": [],
   "source": [
    "### GET LIST OF ALL WORDS ###\n",
    "import pandas as pd\n",
    "\n",
    "df = pd.read_csv('/Users/justinlacoste/downloads/aclImdb/imdb.vocab')\n",
    "all_words_train = df.to_numpy().flatten()"
   ]
  }
 ],
 "metadata": {
  "kernelspec": {
   "display_name": "base",
   "language": "python",
   "name": "python3"
  },
  "language_info": {
   "codemirror_mode": {
    "name": "ipython",
    "version": 3
   },
   "file_extension": ".py",
   "mimetype": "text/x-python",
   "name": "python",
   "nbconvert_exporter": "python",
   "pygments_lexer": "ipython3",
   "version": "3.9.6"
  },
  "orig_nbformat": 4
 },
 "nbformat": 4,
 "nbformat_minor": 2
}
